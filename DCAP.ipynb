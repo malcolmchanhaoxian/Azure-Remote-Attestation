{
  "nbformat": 4,
  "nbformat_minor": 0,
  "metadata": {
    "colab": {
      "provenance": []
    },
    "kernelspec": {
      "name": "python3",
      "display_name": "Python 3"
    },
    "language_info": {
      "name": "python"
    }
  },
  "cells": [
    {
      "cell_type": "code",
      "source": [
        "# For Ubuntu 22.04 DCAP Attestation (quote generation and quote verification) in ACC\n",
        "# Intel® SGX Data Center Attestation Primitives"
      ],
      "metadata": {
        "id": "QdIK8tLrQXo3"
      },
      "execution_count": 1,
      "outputs": []
    },
    {
      "cell_type": "code",
      "source": [
        "sudo apt-get update\n",
        "sudo apt-get install build-essential"
      ],
      "metadata": {
        "id": "i5Uab-7BEE3p"
      },
      "execution_count": null,
      "outputs": []
    },
    {
      "cell_type": "code",
      "source": [
        "#Download and installation of SGX DCAP repo (including the quote verification and generation)\n",
        "wget https://download.01.org/intel-sgx/latest/dcap-latest/linux/distro/ubuntu22.04-server/sgx_linux_x64_sdk_2.25.100.3.bin ; chmod +x sgx*.bin ; sudo ./sgx_linux_x64_sdk_2.25.100.3.bin --prefix /opt/intel\n",
        "\n",
        "echo 'deb [signed-by=/etc/apt/keyrings/intel-sgx-keyring.asc arch=amd64] https://download.01.org/intel-sgx/sgx_repo/ubuntu jammy main' | sudo tee /etc/apt/sources.list.d/intel-sgx.list ; wget https://download.01.org/intel-sgx/sgx_repo/ubuntu/intel-sgx-deb.key ; sudo mkdir /etc/apt/keyrings ; cat intel-sgx-deb.key | sudo tee /etc/apt/keyrings/intel-sgx-keyring.asc > /dev/null ; sudo apt-get update\n",
        "\n",
        "sudo apt-get install -y libsgx-urts libsgx-launch libsgx-epid libsgx-quote-ex libsgx-enclave-common-dev libsgx-uae-service libsgx-dcap-default-qpl libsgx-dcap-default-qpl-dev libsgx-quote-ex-dev libsgx-dcap-ql-dev libsgx-dcap-ql libsgx-dcap-quote-verify libsgx-dcap-quote-verify-dev\n"
      ],
      "metadata": {
        "id": "FpcjT5r5Q1cX"
      },
      "execution_count": null,
      "outputs": []
    },
    {
      "cell_type": "code",
      "source": [
        "#adding user to launch an enclave\n",
        "sudo usermod -aG sgx $USER # add user to the \"sgx\" user group\n",
        "sudo usermod -aG sgx_prv $USER # add user to the \"sgx_prv\" user group which allows \"in-process\" quote generation, i.e., it loads provisioning/quoting enclaves by itself\n",
        "\n",
        "### At this point, please restart ssh session/shell upon successfull setting of user privlleges"
      ],
      "metadata": {
        "id": "y8m_XgvSYrq_"
      },
      "execution_count": null,
      "outputs": []
    },
    {
      "cell_type": "code",
      "source": [
        "# Repointing the SGX Attestation to fetch security baseline from Azure's Trusted Hardware Identity Management (THIM)\n",
        "\n",
        "cp /etc/sgx_default_qcnl.conf ~\n",
        "\n",
        "wget https://raw.githubusercontent.com/intel/SGXDataCenterAttestationPrimitives/master/QuoteGeneration/qcnl/linux/sgx_default_qcnl_azure.conf\n",
        "\n",
        "sudo cp sgx_default_qcnl_azure.conf /etc/sgx_default_qcnl.conf\n",
        "\n",
        "sudo vi /etc/sgx_default_qcnl.conf  # Just to confirm pointing to Azure THIM service\n"
      ],
      "metadata": {
        "id": "eCgB-i5ZYmAX"
      },
      "execution_count": null,
      "outputs": []
    },
    {
      "cell_type": "code",
      "source": [
        "# Clone/Download the SGX Data Center Attestation primitives to use Quote Generation / Verification\n",
        "git clone https://github.com/intel/SGXDataCenterAttestationPrimitives.git"
      ],
      "metadata": {
        "id": "7xtmtZFTh1ic"
      },
      "execution_count": null,
      "outputs": []
    },
    {
      "cell_type": "code",
      "source": [
        "#Build using make and generate a quote key\n",
        "cd SGXDataCenterAttestationPrimitives/SampleCode/QuoteGenerationSample\n",
        "\n",
        "make\n",
        "\n",
        "./app"
      ],
      "metadata": {
        "id": "sTv7NukpiGRv"
      },
      "execution_count": null,
      "outputs": []
    },
    {
      "cell_type": "markdown",
      "source": [
        "The following will be outputed\n",
        "```\n",
        "\t### Successful Output of Quote Generation - quote with cert_key_type = 0x5 is created\n",
        "\t[APP] Step1: Call sgx_qe_get_target_info:\n",
        "\t[APP] succeed!\n",
        "\t[APP] Step2: Call create_app_report\n",
        "\t[APP] Step3: Call sgx_qe_get_quote_size\n",
        "\t[APP] Step4: Call sgx_qe_get_quote\n",
        "\t[APP] cert_key_type = 0x5\n",
        "\n",
        "```"
      ],
      "metadata": {
        "id": "uJZbzZugiOhB"
      }
    },
    {
      "cell_type": "code",
      "execution_count": null,
      "metadata": {
        "id": "geolKJxLDz66"
      },
      "outputs": [],
      "source": [
        "cd ../QuoteVerificationSample\n",
        "\n",
        "make SGX_DEBUG=1  # Add QPL_LOGGING=2 for lots more logging to the screen\n",
        "\n",
        "./app"
      ]
    },
    {
      "cell_type": "markdown",
      "source": [
        "```\n",
        "\t### Successful Output of Quote Verification - 0xa007 result == SGX_QL_QV_RESULT_SW_HARDENING_NEEDED, as expected\n",
        "\t[APP] Info: ECDSA quote path: ../QuoteGenerationSample/quote.dat\n",
        "\t[APP] Trusted quote verification:\n",
        "\t[APP] Info: get target info successfully returned.\n",
        "\t[APP] Info: sgx_qv_set_enclave_load_policy successfully returned.\n",
        "\t[APP] Info: tee_get_quote_supplemental_data_version_and_size successfully returned.\n",
        "\t[APP] Info: latest supplemental data major version: 3, minor version: 3, size: 536\n",
        "\t[APP] Info: App: tee_verify_quote successfully returned.\n",
        "\t[APP] Info: Ecall: Verify QvE report and identity successfully returned.\n",
        "\t[APP] Warning: App: Verification completed with Non-terminal result: a007\n",
        "\t[APP] Info: Supplemental data Major Version: 3\n",
        "\t[APP] Info: Supplemental data Minor Version: 3\n",
        "\t[APP] Info: Advisory ID: INTEL-SA-00615\n",
        "\n",
        "\t===========================================\n",
        "\n",
        "\t[APP] Untrusted quote verification:\n",
        "\t[APP] Info: tee_get_quote_supplemental_data_version_and_size successfully returned.\n",
        "\t[APP] Info: latest supplemental data major version: 3, minor version: 3, size: 536\n",
        "\t[APP] Info: App: tee_verify_quote successfully returned.\n",
        "\t[APP] Warning: App: Verification completed with Non-terminal result: a007\n",
        "\t[APP] Info: Supplemental data Major Version: 3\n",
        "\t[APP] Info: Supplemental data Minor Version: 3\n",
        "\t[APP] Info: Advisory ID: INTEL-SA-00615\n",
        "  \n",
        "```\n",
        "\n",
        "For 0xa007 result code (and others), see this file:  Result codes here:  https://github.com/intel/SGXDataCenterAttestationPrimitives/blob/2562057f6a3149c03f5985826ffaba978ece58c2/QuoteVerification/QvE/Include/sgx_qve_header.h#L60"
      ],
      "metadata": {
        "id": "AA2GiJzejw71"
      }
    },
    {
      "cell_type": "code",
      "source": [],
      "metadata": {
        "id": "yIpCkQX6i5VE"
      },
      "execution_count": null,
      "outputs": []
    }
  ]
}